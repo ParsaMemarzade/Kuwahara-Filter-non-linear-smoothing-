{
 "cells": [
  {
   "cell_type": "code",
   "execution_count": 1,
   "metadata": {},
   "outputs": [],
   "source": [
    "import numpy as np\n",
    "import cv2 "
   ]
  },
  {
   "cell_type": "code",
   "execution_count": 2,
   "metadata": {},
   "outputs": [],
   "source": [
    "\n",
    "\n",
    "def kuwahara_filter(image, kernel_size=5):\n",
    "\n",
    "    height, width, channel = image.shape[0], image.shape[1], image.shape[2]\n",
    "    r = int((kernel_size - 1) / 2)\n",
    "    if r>= 2:\n",
    "        r = r\n",
    "    else:\n",
    "        r = 2\n",
    "    image = np.pad(image, ((r, r), (r, r), (0, 0)), \"edge\")\n",
    "    \n",
    "    average, variance = cv2.integral2(image)\n",
    "    average = (average[:-r - 1, :-r - 1] + average[r + 1:, r + 1:] -\n",
    "               average[r + 1:, :-r - 1] - average[:-r - 1, r + 1:]) / (r +\n",
    "                                                                       1)**2\n",
    "    variance = ((variance[:-r - 1, :-r - 1] + variance[r + 1:, r + 1:] -\n",
    "                 variance[r + 1:, :-r - 1] - variance[:-r - 1, r + 1:]) /\n",
    "                (r + 1)**2 - average**2).sum(axis=2)\n",
    "\n",
    "    def filter(i, j):\n",
    "        return np.array([\n",
    "            average[i, j], average[i + r, j], average[i, j + r], average[i + r,\n",
    "                                                                         j + r]\n",
    "        ])[(np.array([\n",
    "            variance[i, j], variance[i + r, j], variance[i, j + r],\n",
    "            variance[i + r, j + r]\n",
    "        ]).argmin(axis=0).flatten(), j.flatten(),\n",
    "            i.flatten())].reshape(width, height, channel).transpose(1, 0, 2)\n",
    "\n",
    "    filtered_image = filter(*np.meshgrid(np.arange(height), np.arange(width)))\n",
    "\n",
    "    filtered_image = filtered_image.astype(image.dtype)\n",
    "    filtered_image = filtered_image.copy()\n",
    "\n",
    "    return filtered_image\n"
   ]
  },
  {
   "cell_type": "code",
   "execution_count": 3,
   "metadata": {},
   "outputs": [
    {
     "data": {
      "text/plain": [
       "True"
      ]
     },
     "execution_count": 3,
     "metadata": {},
     "output_type": "execute_result"
    }
   ],
   "source": [
    "#read image\n",
    "img = cv2.imread('./img.jpg')\n",
    "#filter image\n",
    "filtered_img = kuwahara_filter(img)\n",
    "#create new image\n",
    "cv2.imshow('img',filtered_img)\n",
    "cv2.waitKey(0)\n",
    "cv2.destroyAllWindows()\n",
    "cv2.imwrite('new_img.jpg', filtered_img)\n",
    "imgGray = cv2.cvtColor(filtered_img, cv2.COLOR_BGR2GRAY)\n",
    "cv2.imshow('imgGray',imgGray)\n",
    "cv2.waitKey(0)\n",
    "cv2.destroyAllWindows()\n",
    "cv2.imwrite('new_imgGray.jpg', imgGray)\n",
    "\n"
   ]
  }
 ],
 "metadata": {
  "kernelspec": {
   "display_name": "Python 3",
   "language": "python",
   "name": "python3"
  },
  "language_info": {
   "codemirror_mode": {
    "name": "ipython",
    "version": 3
   },
   "file_extension": ".py",
   "mimetype": "text/x-python",
   "name": "python",
   "nbconvert_exporter": "python",
   "pygments_lexer": "ipython3",
   "version": "3.9.6"
  },
  "vscode": {
   "interpreter": {
    "hash": "fc92dbe50645c2a0f0815161adfa607b251e3baf7875355af39ab3336211cbff"
   }
  }
 },
 "nbformat": 4,
 "nbformat_minor": 2
}
